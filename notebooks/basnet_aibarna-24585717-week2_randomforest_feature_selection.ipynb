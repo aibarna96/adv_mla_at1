{
 "cells": [
  {
   "cell_type": "code",
   "execution_count": 1,
   "id": "9516a966",
   "metadata": {},
   "outputs": [],
   "source": [
    "import pandas as pd\n",
    "import numpy as np\n",
    "import matplotlib.pyplot as plt\n",
    "from sklearn.preprocessing import StandardScaler\n",
    "from sklearn.model_selection import train_test_split\n",
    "from sklearn.dummy import DummyClassifier\n",
    "from sklearn.metrics import accuracy_score\n",
    "from sklearn.metrics import precision_score, recall_score, accuracy_score, f1_score, confusion_matrix\n",
    "from sklearn.model_selection import train_test_split, GridSearchCV, cross_val_score\n",
    "from sklearn.metrics import classification_report\n",
    "import pickle\n",
    "import seaborn as sns; \n",
    "sns.set(style ='white', color_codes = True)"
   ]
  },
  {
   "cell_type": "code",
   "execution_count": 2,
   "id": "426b51a4",
   "metadata": {},
   "outputs": [
    {
     "name": "stderr",
     "output_type": "stream",
     "text": [
      "C:\\Users\\aibar\\AppData\\Local\\Temp\\ipykernel_28732\\3702832921.py:1: DtypeWarning: Columns (26) have mixed types. Specify dtype option on import or set low_memory=False.\n",
      "  data = pd.read_csv('C:\\\\Users\\\\aibar\\\\Desktop\\\\mlat1\\\\train.csv')\n"
     ]
    }
   ],
   "source": [
    "data = pd.read_csv('C:\\\\Users\\\\aibar\\\\Desktop\\\\mlat1\\\\train.csv')\n",
    "data.columns = map(str.lower, data.columns)\n",
    "\n",
    "# Handle missing values (for simplicity, filling NaNs with 0)\n",
    "data.fillna(0, inplace=True)"
   ]
  },
  {
   "cell_type": "code",
   "execution_count": 3,
   "id": "517826ab",
   "metadata": {},
   "outputs": [],
   "source": [
    "# store columns with specific data type\n",
    "integer_columns = data.select_dtypes(include=['int64']).columns\n",
    "float_columns = data.select_dtypes(include=['float64']).columns\n",
    "object_columns = data.select_dtypes(include=['object']).columns\n"
   ]
  },
  {
   "cell_type": "code",
   "execution_count": 6,
   "id": "c33cc2c9",
   "metadata": {},
   "outputs": [
    {
     "data": {
      "text/plain": [
       "Index(['gp', 'ftm', 'fta', 'twopm', 'twopa', 'tpm', 'tpa', 'year'], dtype='object')"
      ]
     },
     "execution_count": 6,
     "metadata": {},
     "output_type": "execute_result"
    }
   ],
   "source": [
    "integer_columns"
   ]
  },
  {
   "cell_type": "code",
   "execution_count": 7,
   "id": "517e2e76",
   "metadata": {},
   "outputs": [
    {
     "data": {
      "text/plain": [
       "Index(['min_per', 'ortg', 'usg', 'efg', 'ts_per', 'orb_per', 'drb_per',\n",
       "       'ast_per', 'to_per', 'ft_per', 'twop_per', 'tp_per', 'blk_per',\n",
       "       'stl_per', 'ftr', 'porpag', 'adjoe', 'pfr', 'rec_rank', 'ast_tov',\n",
       "       'rimmade', 'rimmade_rimmiss', 'midmade', 'midmade_midmiss', 'rim_ratio',\n",
       "       'mid_ratio', 'dunksmade', 'dunksmiss_dunksmade', 'dunks_ratio', 'pick',\n",
       "       'drtg', 'adrtg', 'dporpag', 'stops', 'bpm', 'obpm', 'dbpm', 'gbpm',\n",
       "       'mp', 'ogbpm', 'dgbpm', 'oreb', 'dreb', 'treb', 'ast', 'stl', 'blk',\n",
       "       'pts', 'drafted'],\n",
       "      dtype='object')"
      ]
     },
     "execution_count": 7,
     "metadata": {},
     "output_type": "execute_result"
    }
   ],
   "source": [
    "float_columns"
   ]
  },
  {
   "cell_type": "code",
   "execution_count": 4,
   "id": "5f659bd7",
   "metadata": {},
   "outputs": [],
   "source": [
    "\n",
    "data = data[['gp', 'ftm', 'fta', 'twopm', 'twopa', 'tpm', 'tpa', 'year', 'min_per', 'ortg', 'usg', 'efg', 'ts_per', 'orb_per', 'drb_per',\n",
    "       'ast_per', 'to_per', 'ft_per', 'twop_per', 'tp_per', 'blk_per',\n",
    "       'stl_per', 'ftr', 'porpag', 'adjoe', 'pfr', 'rec_rank', 'ast_tov',\n",
    "       'rimmade', 'rimmade_rimmiss', 'midmade', 'midmade_midmiss', 'rim_ratio',\n",
    "       'mid_ratio', 'dunksmade', 'dunksmiss_dunksmade', 'dunks_ratio', 'pick',\n",
    "       'drtg', 'adrtg', 'dporpag', 'stops', 'bpm', 'obpm', 'dbpm', 'gbpm',\n",
    "       'mp', 'ogbpm', 'dgbpm', 'oreb', 'dreb', 'treb', 'ast', 'stl', 'blk',\n",
    "       'pts', 'drafted']]"
   ]
  },
  {
   "cell_type": "code",
   "execution_count": 5,
   "id": "db7b6bb0",
   "metadata": {},
   "outputs": [],
   "source": [
    "\n",
    "# Splitting features and target variable\n",
    "X = data.drop(['drafted'], axis=1)\n",
    "y = data['drafted']\n",
    "\n",
    "# Splitting the dataset into training and testing sets\n",
    "X_train, X_test, y_train, y_test = train_test_split(X, y, test_size=0.2, random_state=42)\n",
    "\n",
    "# Standardize features\n",
    "scaler = StandardScaler()\n",
    "X_train_scaled = scaler.fit_transform(X_train)\n",
    "X_test_scaled = scaler.transform(X_test)\n"
   ]
  },
  {
   "cell_type": "code",
   "execution_count": 6,
   "id": "36f16fdd",
   "metadata": {},
   "outputs": [],
   "source": [
    "from imblearn.over_sampling import RandomOverSampler\n",
    "\n",
    "# Create the RandomOverSampler object\n",
    "oversampler = RandomOverSampler(sampling_strategy='auto', random_state=42)\n",
    "\n",
    "# Resample the training data\n",
    "X_train_balanced, y_train_balanced = oversampler.fit_resample(X_train_scaled, y_train)\n"
   ]
  },
  {
   "cell_type": "code",
   "execution_count": 7,
   "id": "6054aaaa",
   "metadata": {},
   "outputs": [],
   "source": [
    "from sklearn.feature_selection import SelectKBest, f_classif, RFE\n",
    "from sklearn.ensemble import RandomForestClassifier"
   ]
  },
  {
   "cell_type": "code",
   "execution_count": 8,
   "id": "d192bc4f",
   "metadata": {},
   "outputs": [
    {
     "name": "stdout",
     "output_type": "stream",
     "text": [
      "Selected Features:\n",
      "Index(['porpag', 'pick', 'dporpag', 'stops', 'pts'], dtype='object')\n"
     ]
    }
   ],
   "source": [
    "from sklearn.feature_selection import SelectKBest, f_classif\n",
    "\n",
    "# Initialize the SelectKBest object with the f_classif scoring function (appropriate for classification tasks)\n",
    "k_best = SelectKBest(score_func=f_classif, k=5)\n",
    "\n",
    "# Fit the k-best selector to your training data and transform it to select the top 5 features\n",
    "X_train_top5 = k_best.fit_transform(X_train_balanced, y_train_balanced)\n",
    "\n",
    "# Get the indices of the selected features\n",
    "selected_feature_indices = k_best.get_support(indices=True)\n",
    "\n",
    "# Get the names of the selected features\n",
    "selected_features = X_train.columns[selected_feature_indices]\n",
    "\n",
    "# Print the names of the selected features\n",
    "print(\"Selected Features:\")\n",
    "print(selected_features)\n"
   ]
  },
  {
   "cell_type": "code",
   "execution_count": 9,
   "id": "40d23837",
   "metadata": {},
   "outputs": [
    {
     "name": "stdout",
     "output_type": "stream",
     "text": [
      "Accuracy: 0.9936714502183795\n",
      "Classification Report:\n",
      "              precision    recall  f1-score   support\n",
      "\n",
      "         0.0       1.00      1.00      1.00     11120\n",
      "         1.0       0.61      0.78      0.68        99\n",
      "\n",
      "    accuracy                           0.99     11219\n",
      "   macro avg       0.80      0.89      0.84     11219\n",
      "weighted avg       0.99      0.99      0.99     11219\n",
      "\n"
     ]
    }
   ],
   "source": [
    "from sklearn.ensemble import RandomForestClassifier\n",
    "from sklearn.metrics import classification_report, accuracy_score\n",
    "\n",
    "# Use the selected features to subset your data\n",
    "X_train_selected = X_train_top5\n",
    "X_test_selected = X_test_scaled[:, selected_feature_indices]\n",
    "\n",
    "# Initialize the Random Forest classifier\n",
    "rf_classifier = RandomForestClassifier(random_state=42)\n",
    "\n",
    "# Train the classifier on the training data\n",
    "rf_classifier.fit(X_train_selected, y_train_balanced)\n",
    "\n",
    "# Make predictions on the test data\n",
    "y_pred = rf_classifier.predict(X_test_selected)\n",
    "\n",
    "# Evaluate the classifier\n",
    "accuracy = accuracy_score(y_test, y_pred)\n",
    "classification_rep = classification_report(y_test, y_pred)\n",
    "\n",
    "# Print the results\n",
    "print(\"Accuracy:\", accuracy)\n",
    "print(\"Classification Report:\")\n",
    "print(classification_rep)\n"
   ]
  },
  {
   "cell_type": "markdown",
   "id": "3991e29e",
   "metadata": {},
   "source": [
    "#new"
   ]
  },
  {
   "cell_type": "code",
   "execution_count": 17,
   "id": "c3b1239c",
   "metadata": {},
   "outputs": [
    {
     "name": "stderr",
     "output_type": "stream",
     "text": [
      "C:\\Users\\aibar\\anaconda3\\Lib\\site-packages\\sklearn\\linear_model\\_logistic.py:460: ConvergenceWarning: lbfgs failed to converge (status=1):\n",
      "STOP: TOTAL NO. of ITERATIONS REACHED LIMIT.\n",
      "\n",
      "Increase the number of iterations (max_iter) or scale the data as shown in:\n",
      "    https://scikit-learn.org/stable/modules/preprocessing.html\n",
      "Please also refer to the documentation for alternative solver options:\n",
      "    https://scikit-learn.org/stable/modules/linear_model.html#logistic-regression\n",
      "  n_iter_i = _check_optimize_result(\n",
      "C:\\Users\\aibar\\anaconda3\\Lib\\site-packages\\sklearn\\linear_model\\_logistic.py:460: ConvergenceWarning: lbfgs failed to converge (status=1):\n",
      "STOP: TOTAL NO. of ITERATIONS REACHED LIMIT.\n",
      "\n",
      "Increase the number of iterations (max_iter) or scale the data as shown in:\n",
      "    https://scikit-learn.org/stable/modules/preprocessing.html\n",
      "Please also refer to the documentation for alternative solver options:\n",
      "    https://scikit-learn.org/stable/modules/linear_model.html#logistic-regression\n",
      "  n_iter_i = _check_optimize_result(\n",
      "C:\\Users\\aibar\\anaconda3\\Lib\\site-packages\\sklearn\\linear_model\\_logistic.py:460: ConvergenceWarning: lbfgs failed to converge (status=1):\n",
      "STOP: TOTAL NO. of ITERATIONS REACHED LIMIT.\n",
      "\n",
      "Increase the number of iterations (max_iter) or scale the data as shown in:\n",
      "    https://scikit-learn.org/stable/modules/preprocessing.html\n",
      "Please also refer to the documentation for alternative solver options:\n",
      "    https://scikit-learn.org/stable/modules/linear_model.html#logistic-regression\n",
      "  n_iter_i = _check_optimize_result(\n",
      "C:\\Users\\aibar\\anaconda3\\Lib\\site-packages\\sklearn\\linear_model\\_logistic.py:460: ConvergenceWarning: lbfgs failed to converge (status=1):\n",
      "STOP: TOTAL NO. of ITERATIONS REACHED LIMIT.\n",
      "\n",
      "Increase the number of iterations (max_iter) or scale the data as shown in:\n",
      "    https://scikit-learn.org/stable/modules/preprocessing.html\n",
      "Please also refer to the documentation for alternative solver options:\n",
      "    https://scikit-learn.org/stable/modules/linear_model.html#logistic-regression\n",
      "  n_iter_i = _check_optimize_result(\n",
      "C:\\Users\\aibar\\anaconda3\\Lib\\site-packages\\sklearn\\linear_model\\_logistic.py:460: ConvergenceWarning: lbfgs failed to converge (status=1):\n",
      "STOP: TOTAL NO. of ITERATIONS REACHED LIMIT.\n",
      "\n",
      "Increase the number of iterations (max_iter) or scale the data as shown in:\n",
      "    https://scikit-learn.org/stable/modules/preprocessing.html\n",
      "Please also refer to the documentation for alternative solver options:\n",
      "    https://scikit-learn.org/stable/modules/linear_model.html#logistic-regression\n",
      "  n_iter_i = _check_optimize_result(\n"
     ]
    },
    {
     "name": "stdout",
     "output_type": "stream",
     "text": [
      "LogisticRegression\n",
      "Mean ROC AUC: 0.9958593150521251\n",
      "Test ROC AUC score: 0.9937440956325848\n",
      "==============================\n",
      "RandomForestClassifier\n",
      "Mean ROC AUC: 1.0\n",
      "Test ROC AUC score: 0.9975406038805319\n",
      "==============================\n",
      "XGBClassifier\n",
      "Mean ROC AUC: 0.9996622497370147\n",
      "Test ROC AUC score: 0.996944262771601\n",
      "==============================\n",
      "GradientBoostingClassifier\n",
      "Mean ROC AUC: 0.9982903873824622\n",
      "Test ROC AUC score: 0.9968829481869049\n",
      "==============================\n",
      "Best model: RandomForestClassifier with AUROC: 0.9975406038805319\n"
     ]
    }
   ],
   "source": [
    "from sklearn.metrics import accuracy_score, f1_score, roc_auc_score, confusion_matrix, classification_report, roc_curve, auc\n",
    "import matplotlib.pyplot as plt\n",
    "\n",
    "from sklearn.model_selection import cross_val_score\n",
    "from sklearn.ensemble import RandomForestClassifier, GradientBoostingClassifier\n",
    "import xgboost as xgb\n",
    "\n",
    "from sklearn.linear_model import LogisticRegression\n",
    "from sklearn.tree import DecisionTreeClassifier\n",
    "from sklearn.ensemble import RandomForestClassifier, GradientBoostingClassifier\n",
    "from xgboost import XGBClassifier\n",
    "from sklearn.metrics import accuracy_score, roc_auc_score, confusion_matrix, recall_score, precision_score, f1_score\n",
    "from sklearn.preprocessing import StandardScaler\n",
    "\n",
    "# define the models\n",
    "lr = LogisticRegression(random_state=42)\n",
    "rf = RandomForestClassifier(random_state=42)\n",
    "xgb = xgb.XGBClassifier(random_state=42)\n",
    "gb = GradientBoostingClassifier(random_state=42)\n",
    "\n",
    "def plot_roc_curve(model, X_test, y_test):\n",
    "    y_pred_proba = model.predict_proba(X_test)[:,1]\n",
    "    fpr, tpr, thresholds = roc_curve(y_test, y_pred_proba)\n",
    "    auc_score = roc_auc_score(y_test, y_pred_proba)\n",
    "    plt.plot(fpr, tpr, label='ROC curve (area = %0.2f)' % auc_score)\n",
    "    plt.plot([0, 1], [0, 1],'r--')\n",
    "    plt.xlim([0, 1])\n",
    "    plt.ylim([0, 1])\n",
    "    plt.xlabel('False Positive Rate')\n",
    "    plt.ylabel('True Positive Rate')\n",
    "    plt.title('Receiver Operating Characteristic')\n",
    "    plt.legend(loc=\"lower right\")\n",
    "    plt.show()\n",
    "\n",
    "\n",
    "models = [lr, rf, xgb, gb]\n",
    "\n",
    "    \n",
    "best_model = None\n",
    "best_auroc = 0.0  # Initialize with a very low value\n",
    "\n",
    "for model in models:\n",
    "    scores = cross_val_score(model, X_train_balanced, y_train_balanced, cv=5, scoring='roc_auc')\n",
    "    mean_auroc = np.mean(scores)\n",
    "    print(type(model).__name__)\n",
    "    print(\"Mean ROC AUC:\", mean_auroc)\n",
    "    \n",
    "    # Fit the model and calculate predicted probabilities\n",
    "    model.fit(X_train_selected, y_train_balanced)\n",
    "    y_pred_proba = model.predict_proba(X_test_selected)[:, 1]\n",
    "    \n",
    "    # Calculate ROC AUC score\n",
    "    model_auroc = roc_auc_score(y_test, y_pred_proba)\n",
    "    print(\"Test ROC AUC score:\", model_auroc)\n",
    "    \n",
    "    if model_auroc > best_auroc:\n",
    "        best_auroc = model_auroc\n",
    "        best_model = model\n",
    "        \n",
    "    print(\"==============================\")\n",
    "\n",
    "# Print the best model with the highest AUROC score\n",
    "print(\"Best model:\", type(best_model).__name__, \"with AUROC:\", best_auroc)"
   ]
  },
  {
   "cell_type": "code",
   "execution_count": 11,
   "id": "f144c096",
   "metadata": {},
   "outputs": [
    {
     "data": {
      "image/png": "[encoded data removed]",
      "text/plain": [
       "<Figure size 800x600 with 1 Axes>"
      ]
     },
     "metadata": {},
     "output_type": "display_data"
    }
   ],
   "source": [
    "from sklearn.metrics import roc_curve, roc_auc_score\n",
    "import matplotlib.pyplot as plt\n",
    "\n",
    "# Get the predicted probabilities for class 1 (drafted)\n",
    "y_pred_prob = rf_classifier.predict_proba(X_test_selected)[:, 1]\n",
    "\n",
    "# Calculate ROC curve and AUC score\n",
    "fpr, tpr, thresholds = roc_curve(y_test, y_pred_prob)\n",
    "roc_auc = roc_auc_score(y_test, y_pred_prob)\n",
    "\n",
    "# Plot ROC curve\n",
    "plt.figure(figsize=(8, 6))\n",
    "plt.plot(fpr, tpr, color='darkorange', lw=2, label='ROC curve (AUC = %0.2f)' % roc_auc)\n",
    "plt.plot([0, 1], [0, 1], color='navy', lw=2, linestyle='--')\n",
    "plt.xlim([0.0, 1.0])\n",
    "plt.ylim([0.0, 1.05])\n",
    "plt.xlabel('False Positive Rate')\n",
    "plt.ylabel('True Positive Rate')\n",
    "plt.title('Receiver Operating Characteristic')\n",
    "plt.legend(loc='lower right')\n",
    "plt.show()\n"
   ]
  },
  {
   "cell_type": "code",
   "execution_count": 12,
   "id": "f037e3b7",
   "metadata": {},
   "outputs": [],
   "source": [
    "# Load and preprocess your test dataset\n",
    "test = pd.read_csv('C:\\\\Users\\\\aibar\\\\Desktop\\\\mlat1\\\\test.csv') \n",
    "test.columns = map(str.lower, test.columns)\n",
    "test.fillna(0, inplace=True)"
   ]
  },
  {
   "cell_type": "code",
   "execution_count": 13,
   "id": "1a0f073f",
   "metadata": {},
   "outputs": [],
   "source": [
    "test_data = test[['gp', 'ftm', 'fta', 'twopm', 'twopa', 'tpm', 'tpa', 'year', 'min_per', 'ortg', 'usg', 'efg', 'ts_per', 'orb_per', 'drb_per',\n",
    "       'ast_per', 'to_per', 'ft_per', 'twop_per', 'tp_per', 'blk_per',\n",
    "       'stl_per', 'ftr', 'porpag', 'adjoe', 'pfr', 'rec_rank', 'ast_tov',\n",
    "       'rimmade', 'rimmade_rimmiss', 'midmade', 'midmade_midmiss', 'rim_ratio',\n",
    "       'mid_ratio', 'dunksmade', 'dunksmiss_dunksmade', 'dunks_ratio', 'pick',\n",
    "       'drtg', 'adrtg', 'dporpag', 'stops', 'bpm', 'obpm', 'dbpm', 'gbpm',\n",
    "       'mp', 'ogbpm', 'dgbpm', 'oreb', 'dreb', 'treb', 'ast', 'stl', 'blk',\n",
    "       'pts','player_id']]\n"
   ]
  },
  {
   "cell_type": "code",
   "execution_count": 21,
   "id": "4773eab5",
   "metadata": {},
   "outputs": [],
   "source": [
    "\n",
    "\n",
    "# Splitting features for test data\n",
    "X_test_data = test_data.drop(['player_id'], axis=1)  # Remove any identifier column that's not a feature\n",
    "\n",
    "# Standardize the test features using the same scaler\n",
    "X_test_data_scaled = scaler.transform(X_test_data)\n",
    "X_test_data_scaled = X_test_data_scaled[:, selected_feature_indices]\n",
    "\n",
    "\n"
   ]
  },
  {
   "cell_type": "code",
   "execution_count": 22,
   "id": "d214b010",
   "metadata": {},
   "outputs": [
    {
     "data": {
      "image/png": "[encoded data removed]",
      "text/plain": [
       "<Figure size 800x600 with 1 Axes>"
      ]
     },
     "metadata": {},
     "output_type": "display_data"
    }
   ],
   "source": [
    "\n",
    "\n",
    "# Make predictions on the test data\n",
    "y_pred_prob_test = rf_classifier.predict_proba(X_test_data_scaled)[:, 1]  # Predicted probabilities for class 1 (drafted)\n",
    "\n",
    "# Visualize predicted probabilities\n",
    "plt.figure(figsize=(8, 6))\n",
    "plt.hist(y_pred_prob_test, bins=30, edgecolor='k', alpha=0.7)\n",
    "plt.xlabel('Predicted Probability of Being Drafted')\n",
    "plt.ylabel('Frequency')\n",
    "plt.title('Distribution of Predicted Probabilities')\n",
    "plt.show()\n"
   ]
  },
  {
   "cell_type": "code",
   "execution_count": 24,
   "id": "11c55f4b",
   "metadata": {},
   "outputs": [
    {
     "name": "stdout",
     "output_type": "stream",
     "text": [
      "Cross-Validation ROC AUC Scores: [1. 1. 1. 1. 1.]\n",
      "Mean ROC AUC: 1.0\n",
      "Standard Deviation: 0.0\n"
     ]
    }
   ],
   "source": [
    "from sklearn.model_selection import cross_val_score\n",
    "\n",
    "# Initialize the RandomForestClassifier\n",
    "#rf_classifier = RandomForestClassifier(random_state=42)\n",
    "\n",
    "# Perform k-fold cross-validation (e.g., 5-fold)\n",
    "cv_scores = cross_val_score(rf_classifier, X_train_selected, y_train_balanced, cv=5, scoring='roc_auc')\n",
    "\n",
    "# Print the cross-validation scores\n",
    "print(\"Cross-Validation ROC AUC Scores:\", cv_scores)\n",
    "\n",
    "# Calculate and print the mean and standard deviation of the scores\n",
    "print(\"Mean ROC AUC:\", np.mean(cv_scores))\n",
    "print(\"Standard Deviation:\", np.std(cv_scores))\n"
   ]
  },
  {
   "cell_type": "code",
   "execution_count": 25,
   "id": "e2aa1494",
   "metadata": {},
   "outputs": [
    {
     "name": "stdout",
     "output_type": "stream",
     "text": [
      "Fitting 5 folds for each of 216 candidates, totalling 1080 fits\n",
      "Best Hyperparameters:\n",
      "{'bootstrap': True, 'max_depth': None, 'min_samples_leaf': 1, 'min_samples_split': 2, 'n_estimators': 100}\n",
      "ROC AUC score for Tuned Model: 0.9975406038805319\n"
     ]
    }
   ],
   "source": [
    "from sklearn.ensemble import RandomForestClassifier\n",
    "from sklearn.model_selection import GridSearchCV\n",
    "\n",
    "# Define the hyperparameters and their possible values for tuning\n",
    "param_grid = {\n",
    "    'n_estimators': [100, 200, 300],\n",
    "    'max_depth': [None, 10, 20, 30],\n",
    "    'min_samples_split': [2, 5, 10],\n",
    "    'min_samples_leaf': [1, 2, 4],\n",
    "    'bootstrap': [True, False]\n",
    "}\n",
    "\n",
    "# Create the Random Forest Classifier\n",
    "#rf_classifier = RandomForestClassifier(random_state=42)\n",
    "\n",
    "# Create the GridSearchCV object\n",
    "grid_search = GridSearchCV(estimator=rf_classifier, param_grid=param_grid, \n",
    "                           scoring='roc_auc', cv=5, verbose=2, n_jobs=-1)\n",
    "\n",
    "# Fit the grid search to the data\n",
    "grid_search.fit(X_train_selected, y_train_balanced)\n",
    "\n",
    "# Get the best hyperparameters\n",
    "best_params = grid_search.best_params_\n",
    "print(\"Best Hyperparameters:\")\n",
    "print(best_params)\n",
    "\n",
    "# Get the best model\n",
    "best_rf_model = grid_search.best_estimator_\n",
    "\n",
    "# Evaluate the best model on the test set\n",
    "y_pred_proba_test_tuned = best_rf_model.predict_proba(X_test_selected)[:, 1]\n",
    "\n",
    "# Calculate ROC AUC score for the tuned model\n",
    "roc_auc_tuned = roc_auc_score(y_test, y_pred_proba_test_tuned)\n",
    "print(\"ROC AUC score for Tuned Model:\", roc_auc_tuned)\n"
   ]
  },
  {
   "cell_type": "code",
   "execution_count": 26,
   "id": "90a6fd94",
   "metadata": {},
   "outputs": [
    {
     "name": "stdout",
     "output_type": "stream",
     "text": [
      "                                 player_id  drafted\n",
      "0     cf302b4d-84f7-4124-a25d-a75eed31978b      0.0\n",
      "1     f91837cd-4f49-4b70-963d-aeb82c6ce3da      0.0\n",
      "2     53ec2a29-1e7d-4c6d-86d7-d60d02af8916      0.0\n",
      "3     32402798-471c-4a54-8cb4-29cd95199014      0.0\n",
      "4     73b960f9-27b8-4431-9d23-a760e9bbc360      0.0\n",
      "...                                    ...      ...\n",
      "4965  a25ee55f-02a3-4f8e-8194-a5f427e14e7c      0.0\n",
      "4966  d0d9f45e-7b01-44b3-8d40-514ec338611d      0.0\n",
      "4967  f8df22c4-1602-4fab-896d-8820951aae2f      0.0\n",
      "4968  b791c69a-f769-4163-afda-051a6fd20a9d      0.0\n",
      "4969  18b51f5d-4746-4121-88fd-c8d0a1399130      0.0\n",
      "\n",
      "[4970 rows x 2 columns]\n"
     ]
    }
   ],
   "source": [
    "# Create a DataFrame with player_id and predicted probabilities\n",
    "result_df = pd.DataFrame({\n",
    "    'player_id': test_data['player_id'],\n",
    "    'drafted': y_pred_prob_test\n",
    "})\n",
    "\n",
    "# Display the resulting DataFrame\n",
    "print(result_df)"
   ]
  },
  {
   "cell_type": "code",
   "execution_count": 27,
   "id": "96107ae0",
   "metadata": {},
   "outputs": [],
   "source": [
    "compression_opts = dict(method='zip',\n",
    "                         archive_name='C:\\\\Users\\\\aibar\\\\Desktop\\\\mlat1\\\\out_final.csv')  \n",
    "result_df.to_csv('out_final.zip', index=False,\n",
    "           compression=compression_opts)  "
   ]
  }
 ],
 "metadata": {
  "kernelspec": {
   "display_name": "Python 3 (ipykernel)",
   "language": "python",
   "name": "python3"
  },
  "language_info": {
   "codemirror_mode": {
    "name": "ipython",
    "version": 3
   },
   "file_extension": ".py",
   "mimetype": "text/x-python",
   "name": "python",
   "nbconvert_exporter": "python",
   "pygments_lexer": "ipython3",
   "version": "3.11.4"
  }
 },
 "nbformat": 4,
 "nbformat_minor": 5
}
